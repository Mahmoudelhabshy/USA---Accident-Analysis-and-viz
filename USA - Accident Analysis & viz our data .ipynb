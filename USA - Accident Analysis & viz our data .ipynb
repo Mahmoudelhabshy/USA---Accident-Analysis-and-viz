{
 "cells": [
  {
   "cell_type": "markdown",
   "id": "f721491c",
   "metadata": {},
   "source": [
    "# USA - Accident Analysis and viz"
   ]
  },
  {
   "cell_type": "code",
   "execution_count": 3,
   "id": "11190e11",
   "metadata": {},
   "outputs": [],
   "source": [
    "import random\n",
    "import pandas as pd \n",
    "import numpy as np \n",
    "\n",
    "# warnings\n",
    "pd.options.mode.chained_assignment = None \n",
    "import warnings\n",
    "warnings.filterwarnings(\"ignore\")\n",
    "\n",
    "# plotting  \n",
    "import seaborn as sns\n",
    "import matplotlib.pyplot as plt\n",
    "import plotly.express as px\n",
    "from plotly.subplots import make_subplots\n",
    "import plotly.graph_objects as go\n",
    "import plotly.figure_factory as ff"
   ]
  },
  {
   "cell_type": "code",
   "execution_count": 4,
   "id": "6bcc5425",
   "metadata": {},
   "outputs": [
    {
     "data": {
      "text/html": [
       "<div>\n",
       "<style scoped>\n",
       "    .dataframe tbody tr th:only-of-type {\n",
       "        vertical-align: middle;\n",
       "    }\n",
       "\n",
       "    .dataframe tbody tr th {\n",
       "        vertical-align: top;\n",
       "    }\n",
       "\n",
       "    .dataframe thead th {\n",
       "        text-align: right;\n",
       "    }\n",
       "</style>\n",
       "<table border=\"1\" class=\"dataframe\">\n",
       "  <thead>\n",
       "    <tr style=\"text-align: right;\">\n",
       "      <th></th>\n",
       "      <th>Unnamed: 0</th>\n",
       "      <th>ID</th>\n",
       "      <th>Source</th>\n",
       "      <th>TMC</th>\n",
       "      <th>Severity</th>\n",
       "      <th>Start_Time</th>\n",
       "      <th>End_Time</th>\n",
       "      <th>Start_Lat</th>\n",
       "      <th>Start_Lng</th>\n",
       "      <th>End_Lat</th>\n",
       "      <th>...</th>\n",
       "      <th>Roundabout</th>\n",
       "      <th>Station</th>\n",
       "      <th>Stop</th>\n",
       "      <th>Traffic_Calming</th>\n",
       "      <th>Traffic_Signal</th>\n",
       "      <th>Turning_Loop</th>\n",
       "      <th>Sunrise_Sunset</th>\n",
       "      <th>Civil_Twilight</th>\n",
       "      <th>Nautical_Twilight</th>\n",
       "      <th>Astronomical_Twilight</th>\n",
       "    </tr>\n",
       "  </thead>\n",
       "  <tbody>\n",
       "    <tr>\n",
       "      <th>0</th>\n",
       "      <td>0</td>\n",
       "      <td>A-1</td>\n",
       "      <td>MapQuest</td>\n",
       "      <td>201.0</td>\n",
       "      <td>3</td>\n",
       "      <td>2016-02-08 05:46:00</td>\n",
       "      <td>2016-02-08 11:00:00</td>\n",
       "      <td>39.865147</td>\n",
       "      <td>-84.058723</td>\n",
       "      <td>NaN</td>\n",
       "      <td>...</td>\n",
       "      <td>False</td>\n",
       "      <td>False</td>\n",
       "      <td>False</td>\n",
       "      <td>False</td>\n",
       "      <td>False</td>\n",
       "      <td>False</td>\n",
       "      <td>Night</td>\n",
       "      <td>Night</td>\n",
       "      <td>Night</td>\n",
       "      <td>Night</td>\n",
       "    </tr>\n",
       "    <tr>\n",
       "      <th>1</th>\n",
       "      <td>1</td>\n",
       "      <td>A-2</td>\n",
       "      <td>MapQuest</td>\n",
       "      <td>201.0</td>\n",
       "      <td>2</td>\n",
       "      <td>2016-02-08 06:07:59</td>\n",
       "      <td>2016-02-08 06:37:59</td>\n",
       "      <td>39.928059</td>\n",
       "      <td>-82.831184</td>\n",
       "      <td>NaN</td>\n",
       "      <td>...</td>\n",
       "      <td>False</td>\n",
       "      <td>False</td>\n",
       "      <td>False</td>\n",
       "      <td>False</td>\n",
       "      <td>False</td>\n",
       "      <td>False</td>\n",
       "      <td>Night</td>\n",
       "      <td>Night</td>\n",
       "      <td>Night</td>\n",
       "      <td>Day</td>\n",
       "    </tr>\n",
       "    <tr>\n",
       "      <th>2</th>\n",
       "      <td>2</td>\n",
       "      <td>A-3</td>\n",
       "      <td>MapQuest</td>\n",
       "      <td>201.0</td>\n",
       "      <td>2</td>\n",
       "      <td>2016-02-08 06:49:27</td>\n",
       "      <td>2016-02-08 07:19:27</td>\n",
       "      <td>39.063148</td>\n",
       "      <td>-84.032608</td>\n",
       "      <td>NaN</td>\n",
       "      <td>...</td>\n",
       "      <td>False</td>\n",
       "      <td>False</td>\n",
       "      <td>False</td>\n",
       "      <td>False</td>\n",
       "      <td>True</td>\n",
       "      <td>False</td>\n",
       "      <td>Night</td>\n",
       "      <td>Night</td>\n",
       "      <td>Day</td>\n",
       "      <td>Day</td>\n",
       "    </tr>\n",
       "    <tr>\n",
       "      <th>3</th>\n",
       "      <td>3</td>\n",
       "      <td>A-4</td>\n",
       "      <td>MapQuest</td>\n",
       "      <td>201.0</td>\n",
       "      <td>3</td>\n",
       "      <td>2016-02-08 07:23:34</td>\n",
       "      <td>2016-02-08 07:53:34</td>\n",
       "      <td>39.747753</td>\n",
       "      <td>-84.205582</td>\n",
       "      <td>NaN</td>\n",
       "      <td>...</td>\n",
       "      <td>False</td>\n",
       "      <td>False</td>\n",
       "      <td>False</td>\n",
       "      <td>False</td>\n",
       "      <td>False</td>\n",
       "      <td>False</td>\n",
       "      <td>Night</td>\n",
       "      <td>Day</td>\n",
       "      <td>Day</td>\n",
       "      <td>Day</td>\n",
       "    </tr>\n",
       "    <tr>\n",
       "      <th>4</th>\n",
       "      <td>4</td>\n",
       "      <td>A-5</td>\n",
       "      <td>MapQuest</td>\n",
       "      <td>201.0</td>\n",
       "      <td>2</td>\n",
       "      <td>2016-02-08 07:39:07</td>\n",
       "      <td>2016-02-08 08:09:07</td>\n",
       "      <td>39.627781</td>\n",
       "      <td>-84.188354</td>\n",
       "      <td>NaN</td>\n",
       "      <td>...</td>\n",
       "      <td>False</td>\n",
       "      <td>False</td>\n",
       "      <td>False</td>\n",
       "      <td>False</td>\n",
       "      <td>True</td>\n",
       "      <td>False</td>\n",
       "      <td>Day</td>\n",
       "      <td>Day</td>\n",
       "      <td>Day</td>\n",
       "      <td>Day</td>\n",
       "    </tr>\n",
       "  </tbody>\n",
       "</table>\n",
       "<p>5 rows × 50 columns</p>\n",
       "</div>"
      ],
      "text/plain": [
       "   Unnamed: 0   ID    Source    TMC  Severity           Start_Time  \\\n",
       "0           0  A-1  MapQuest  201.0         3  2016-02-08 05:46:00   \n",
       "1           1  A-2  MapQuest  201.0         2  2016-02-08 06:07:59   \n",
       "2           2  A-3  MapQuest  201.0         2  2016-02-08 06:49:27   \n",
       "3           3  A-4  MapQuest  201.0         3  2016-02-08 07:23:34   \n",
       "4           4  A-5  MapQuest  201.0         2  2016-02-08 07:39:07   \n",
       "\n",
       "              End_Time  Start_Lat  Start_Lng  End_Lat  ...  Roundabout  \\\n",
       "0  2016-02-08 11:00:00  39.865147 -84.058723      NaN  ...       False   \n",
       "1  2016-02-08 06:37:59  39.928059 -82.831184      NaN  ...       False   \n",
       "2  2016-02-08 07:19:27  39.063148 -84.032608      NaN  ...       False   \n",
       "3  2016-02-08 07:53:34  39.747753 -84.205582      NaN  ...       False   \n",
       "4  2016-02-08 08:09:07  39.627781 -84.188354      NaN  ...       False   \n",
       "\n",
       "   Station   Stop  Traffic_Calming Traffic_Signal Turning_Loop Sunrise_Sunset  \\\n",
       "0    False  False            False          False        False          Night   \n",
       "1    False  False            False          False        False          Night   \n",
       "2    False  False            False           True        False          Night   \n",
       "3    False  False            False          False        False          Night   \n",
       "4    False  False            False           True        False            Day   \n",
       "\n",
       "  Civil_Twilight Nautical_Twilight Astronomical_Twilight  \n",
       "0          Night             Night                 Night  \n",
       "1          Night             Night                   Day  \n",
       "2          Night               Day                   Day  \n",
       "3            Day               Day                   Day  \n",
       "4            Day               Day                   Day  \n",
       "\n",
       "[5 rows x 50 columns]"
      ]
     },
     "execution_count": 4,
     "metadata": {},
     "output_type": "execute_result"
    }
   ],
   "source": [
    "df = pd.read_csv('US_Accidents_Dec19.csv')\n",
    "df.head()"
   ]
  },
  {
   "cell_type": "code",
   "execution_count": 5,
   "id": "22d3047b",
   "metadata": {},
   "outputs": [
    {
     "name": "stdout",
     "output_type": "stream",
     "text": [
      "<class 'pandas.core.frame.DataFrame'>\n",
      "RangeIndex: 2974335 entries, 0 to 2974334\n",
      "Data columns (total 50 columns):\n",
      " #   Column                 Dtype  \n",
      "---  ------                 -----  \n",
      " 0   Unnamed: 0             int64  \n",
      " 1   ID                     object \n",
      " 2   Source                 object \n",
      " 3   TMC                    float64\n",
      " 4   Severity               int64  \n",
      " 5   Start_Time             object \n",
      " 6   End_Time               object \n",
      " 7   Start_Lat              float64\n",
      " 8   Start_Lng              float64\n",
      " 9   End_Lat                float64\n",
      " 10  End_Lng                float64\n",
      " 11  Distance(mi)           float64\n",
      " 12  Description            object \n",
      " 13  Number                 float64\n",
      " 14  Street                 object \n",
      " 15  Side                   object \n",
      " 16  City                   object \n",
      " 17  County                 object \n",
      " 18  State                  object \n",
      " 19  Zipcode                object \n",
      " 20  Country                object \n",
      " 21  Timezone               object \n",
      " 22  Airport_Code           object \n",
      " 23  Weather_Timestamp      object \n",
      " 24  Temperature(F)         float64\n",
      " 25  Wind_Chill(F)          float64\n",
      " 26  Humidity(%)            float64\n",
      " 27  Pressure(in)           float64\n",
      " 28  Visibility(mi)         float64\n",
      " 29  Wind_Direction         object \n",
      " 30  Wind_Speed(mph)        float64\n",
      " 31  Precipitation(in)      float64\n",
      " 32  Weather_Condition      object \n",
      " 33  Amenity                bool   \n",
      " 34  Bump                   bool   \n",
      " 35  Crossing               bool   \n",
      " 36  Give_Way               bool   \n",
      " 37  Junction               bool   \n",
      " 38  No_Exit                bool   \n",
      " 39  Railway                bool   \n",
      " 40  Roundabout             bool   \n",
      " 41  Station                bool   \n",
      " 42  Stop                   bool   \n",
      " 43  Traffic_Calming        bool   \n",
      " 44  Traffic_Signal         bool   \n",
      " 45  Turning_Loop           bool   \n",
      " 46  Sunrise_Sunset         object \n",
      " 47  Civil_Twilight         object \n",
      " 48  Nautical_Twilight      object \n",
      " 49  Astronomical_Twilight  object \n",
      "dtypes: bool(13), float64(14), int64(2), object(21)\n",
      "memory usage: 876.5+ MB\n"
     ]
    }
   ],
   "source": [
    "df.info()"
   ]
  },
  {
   "cell_type": "code",
   "execution_count": 6,
   "id": "8eaa542d",
   "metadata": {},
   "outputs": [
    {
     "data": {
      "text/plain": [
       "Index(['Unnamed: 0', 'ID', 'Source', 'TMC', 'Severity', 'Start_Time',\n",
       "       'End_Time', 'Start_Lat', 'Start_Lng', 'End_Lat', 'End_Lng',\n",
       "       'Distance(mi)', 'Description', 'Number', 'Street', 'Side', 'City',\n",
       "       'County', 'State', 'Zipcode', 'Country', 'Timezone', 'Airport_Code',\n",
       "       'Weather_Timestamp', 'Temperature(F)', 'Wind_Chill(F)', 'Humidity(%)',\n",
       "       'Pressure(in)', 'Visibility(mi)', 'Wind_Direction', 'Wind_Speed(mph)',\n",
       "       'Precipitation(in)', 'Weather_Condition', 'Amenity', 'Bump', 'Crossing',\n",
       "       'Give_Way', 'Junction', 'No_Exit', 'Railway', 'Roundabout', 'Station',\n",
       "       'Stop', 'Traffic_Calming', 'Traffic_Signal', 'Turning_Loop',\n",
       "       'Sunrise_Sunset', 'Civil_Twilight', 'Nautical_Twilight',\n",
       "       'Astronomical_Twilight'],\n",
       "      dtype='object')"
      ]
     },
     "execution_count": 6,
     "metadata": {},
     "output_type": "execute_result"
    }
   ],
   "source": [
    "df.columns"
   ]
  },
  {
   "cell_type": "code",
   "execution_count": 7,
   "id": "bb47bda6",
   "metadata": {},
   "outputs": [
    {
     "data": {
      "text/plain": [
       "2974335"
      ]
     },
     "execution_count": 7,
     "metadata": {},
     "output_type": "execute_result"
    }
   ],
   "source": [
    "len(df)"
   ]
  },
  {
   "cell_type": "code",
   "execution_count": 8,
   "id": "906d71a3",
   "metadata": {},
   "outputs": [
    {
     "data": {
      "text/html": [
       "<div>\n",
       "<style scoped>\n",
       "    .dataframe tbody tr th:only-of-type {\n",
       "        vertical-align: middle;\n",
       "    }\n",
       "\n",
       "    .dataframe tbody tr th {\n",
       "        vertical-align: top;\n",
       "    }\n",
       "\n",
       "    .dataframe thead th {\n",
       "        text-align: right;\n",
       "    }\n",
       "</style>\n",
       "<table border=\"1\" class=\"dataframe\">\n",
       "  <thead>\n",
       "    <tr style=\"text-align: right;\">\n",
       "      <th></th>\n",
       "      <th>count</th>\n",
       "      <th>mean</th>\n",
       "      <th>std</th>\n",
       "      <th>min</th>\n",
       "      <th>25%</th>\n",
       "      <th>50%</th>\n",
       "      <th>75%</th>\n",
       "      <th>max</th>\n",
       "    </tr>\n",
       "  </thead>\n",
       "  <tbody>\n",
       "    <tr>\n",
       "      <th>Unnamed: 0</th>\n",
       "      <td>2974335.0</td>\n",
       "      <td>1487167.00</td>\n",
       "      <td>858616.70</td>\n",
       "      <td>0.00</td>\n",
       "      <td>743583.50</td>\n",
       "      <td>1487167.00</td>\n",
       "      <td>2230750.50</td>\n",
       "      <td>2974334.00</td>\n",
       "    </tr>\n",
       "    <tr>\n",
       "      <th>TMC</th>\n",
       "      <td>2246264.0</td>\n",
       "      <td>207.83</td>\n",
       "      <td>20.33</td>\n",
       "      <td>200.00</td>\n",
       "      <td>201.00</td>\n",
       "      <td>201.00</td>\n",
       "      <td>201.00</td>\n",
       "      <td>406.00</td>\n",
       "    </tr>\n",
       "    <tr>\n",
       "      <th>Severity</th>\n",
       "      <td>2974335.0</td>\n",
       "      <td>2.36</td>\n",
       "      <td>0.54</td>\n",
       "      <td>1.00</td>\n",
       "      <td>2.00</td>\n",
       "      <td>2.00</td>\n",
       "      <td>3.00</td>\n",
       "      <td>4.00</td>\n",
       "    </tr>\n",
       "    <tr>\n",
       "      <th>Start_Lat</th>\n",
       "      <td>2974335.0</td>\n",
       "      <td>36.49</td>\n",
       "      <td>4.92</td>\n",
       "      <td>24.56</td>\n",
       "      <td>33.55</td>\n",
       "      <td>35.85</td>\n",
       "      <td>40.37</td>\n",
       "      <td>49.00</td>\n",
       "    </tr>\n",
       "    <tr>\n",
       "      <th>Start_Lng</th>\n",
       "      <td>2974335.0</td>\n",
       "      <td>-95.43</td>\n",
       "      <td>17.22</td>\n",
       "      <td>-124.62</td>\n",
       "      <td>-117.29</td>\n",
       "      <td>-90.25</td>\n",
       "      <td>-80.92</td>\n",
       "      <td>-67.11</td>\n",
       "    </tr>\n",
       "    <tr>\n",
       "      <th>End_Lat</th>\n",
       "      <td>728071.0</td>\n",
       "      <td>37.58</td>\n",
       "      <td>5.00</td>\n",
       "      <td>24.57</td>\n",
       "      <td>33.96</td>\n",
       "      <td>37.90</td>\n",
       "      <td>41.37</td>\n",
       "      <td>49.08</td>\n",
       "    </tr>\n",
       "    <tr>\n",
       "      <th>End_Lng</th>\n",
       "      <td>728071.0</td>\n",
       "      <td>-99.98</td>\n",
       "      <td>18.42</td>\n",
       "      <td>-124.50</td>\n",
       "      <td>-118.29</td>\n",
       "      <td>-96.63</td>\n",
       "      <td>-82.32</td>\n",
       "      <td>-67.11</td>\n",
       "    </tr>\n",
       "    <tr>\n",
       "      <th>Distance(mi)</th>\n",
       "      <td>2974335.0</td>\n",
       "      <td>0.29</td>\n",
       "      <td>1.55</td>\n",
       "      <td>0.00</td>\n",
       "      <td>0.00</td>\n",
       "      <td>0.00</td>\n",
       "      <td>0.01</td>\n",
       "      <td>333.63</td>\n",
       "    </tr>\n",
       "    <tr>\n",
       "      <th>Number</th>\n",
       "      <td>1056730.0</td>\n",
       "      <td>5837.00</td>\n",
       "      <td>15159.28</td>\n",
       "      <td>0.00</td>\n",
       "      <td>837.00</td>\n",
       "      <td>2717.00</td>\n",
       "      <td>7000.00</td>\n",
       "      <td>9999997.00</td>\n",
       "    </tr>\n",
       "    <tr>\n",
       "      <th>Temperature(F)</th>\n",
       "      <td>2918272.0</td>\n",
       "      <td>62.35</td>\n",
       "      <td>18.79</td>\n",
       "      <td>-77.80</td>\n",
       "      <td>50.00</td>\n",
       "      <td>64.40</td>\n",
       "      <td>76.00</td>\n",
       "      <td>170.60</td>\n",
       "    </tr>\n",
       "    <tr>\n",
       "      <th>Wind_Chill(F)</th>\n",
       "      <td>1121712.0</td>\n",
       "      <td>51.33</td>\n",
       "      <td>25.19</td>\n",
       "      <td>-65.90</td>\n",
       "      <td>32.00</td>\n",
       "      <td>54.00</td>\n",
       "      <td>73.00</td>\n",
       "      <td>115.00</td>\n",
       "    </tr>\n",
       "    <tr>\n",
       "      <th>Humidity(%)</th>\n",
       "      <td>2915162.0</td>\n",
       "      <td>65.41</td>\n",
       "      <td>22.56</td>\n",
       "      <td>1.00</td>\n",
       "      <td>49.00</td>\n",
       "      <td>67.00</td>\n",
       "      <td>84.00</td>\n",
       "      <td>100.00</td>\n",
       "    </tr>\n",
       "    <tr>\n",
       "      <th>Pressure(in)</th>\n",
       "      <td>2926193.0</td>\n",
       "      <td>29.83</td>\n",
       "      <td>0.72</td>\n",
       "      <td>0.00</td>\n",
       "      <td>29.82</td>\n",
       "      <td>29.98</td>\n",
       "      <td>30.11</td>\n",
       "      <td>33.04</td>\n",
       "    </tr>\n",
       "    <tr>\n",
       "      <th>Visibility(mi)</th>\n",
       "      <td>2908644.0</td>\n",
       "      <td>9.15</td>\n",
       "      <td>2.89</td>\n",
       "      <td>0.00</td>\n",
       "      <td>10.00</td>\n",
       "      <td>10.00</td>\n",
       "      <td>10.00</td>\n",
       "      <td>140.00</td>\n",
       "    </tr>\n",
       "    <tr>\n",
       "      <th>Wind_Speed(mph)</th>\n",
       "      <td>2533495.0</td>\n",
       "      <td>8.30</td>\n",
       "      <td>5.14</td>\n",
       "      <td>0.00</td>\n",
       "      <td>4.60</td>\n",
       "      <td>7.00</td>\n",
       "      <td>10.40</td>\n",
       "      <td>822.80</td>\n",
       "    </tr>\n",
       "    <tr>\n",
       "      <th>Precipitation(in)</th>\n",
       "      <td>975977.0</td>\n",
       "      <td>0.02</td>\n",
       "      <td>0.24</td>\n",
       "      <td>0.00</td>\n",
       "      <td>0.00</td>\n",
       "      <td>0.00</td>\n",
       "      <td>0.00</td>\n",
       "      <td>25.00</td>\n",
       "    </tr>\n",
       "  </tbody>\n",
       "</table>\n",
       "</div>"
      ],
      "text/plain": [
       "                       count        mean        std     min        25%  \\\n",
       "Unnamed: 0         2974335.0  1487167.00  858616.70    0.00  743583.50   \n",
       "TMC                2246264.0      207.83      20.33  200.00     201.00   \n",
       "Severity           2974335.0        2.36       0.54    1.00       2.00   \n",
       "Start_Lat          2974335.0       36.49       4.92   24.56      33.55   \n",
       "Start_Lng          2974335.0      -95.43      17.22 -124.62    -117.29   \n",
       "End_Lat             728071.0       37.58       5.00   24.57      33.96   \n",
       "End_Lng             728071.0      -99.98      18.42 -124.50    -118.29   \n",
       "Distance(mi)       2974335.0        0.29       1.55    0.00       0.00   \n",
       "Number             1056730.0     5837.00   15159.28    0.00     837.00   \n",
       "Temperature(F)     2918272.0       62.35      18.79  -77.80      50.00   \n",
       "Wind_Chill(F)      1121712.0       51.33      25.19  -65.90      32.00   \n",
       "Humidity(%)        2915162.0       65.41      22.56    1.00      49.00   \n",
       "Pressure(in)       2926193.0       29.83       0.72    0.00      29.82   \n",
       "Visibility(mi)     2908644.0        9.15       2.89    0.00      10.00   \n",
       "Wind_Speed(mph)    2533495.0        8.30       5.14    0.00       4.60   \n",
       "Precipitation(in)   975977.0        0.02       0.24    0.00       0.00   \n",
       "\n",
       "                          50%         75%         max  \n",
       "Unnamed: 0         1487167.00  2230750.50  2974334.00  \n",
       "TMC                    201.00      201.00      406.00  \n",
       "Severity                 2.00        3.00        4.00  \n",
       "Start_Lat               35.85       40.37       49.00  \n",
       "Start_Lng              -90.25      -80.92      -67.11  \n",
       "End_Lat                 37.90       41.37       49.08  \n",
       "End_Lng                -96.63      -82.32      -67.11  \n",
       "Distance(mi)             0.00        0.01      333.63  \n",
       "Number                2717.00     7000.00  9999997.00  \n",
       "Temperature(F)          64.40       76.00      170.60  \n",
       "Wind_Chill(F)           54.00       73.00      115.00  \n",
       "Humidity(%)             67.00       84.00      100.00  \n",
       "Pressure(in)            29.98       30.11       33.04  \n",
       "Visibility(mi)          10.00       10.00      140.00  \n",
       "Wind_Speed(mph)          7.00       10.40      822.80  \n",
       "Precipitation(in)        0.00        0.00       25.00  "
      ]
     },
     "execution_count": 8,
     "metadata": {},
     "output_type": "execute_result"
    }
   ],
   "source": [
    "df.describe().round(2).T"
   ]
  },
  {
   "cell_type": "markdown",
   "id": "8d518e4e",
   "metadata": {},
   "source": [
    "# Filltering Data and find NAN values and removes"
   ]
  },
  {
   "cell_type": "code",
   "execution_count": 9,
   "id": "ee5c6203",
   "metadata": {},
   "outputs": [
    {
     "data": {
      "text/plain": [
       "16"
      ]
     },
     "execution_count": 9,
     "metadata": {},
     "output_type": "execute_result"
    }
   ],
   "source": [
    "numerics = ['int16', 'int32', 'int64', 'float16', 'float32', 'float64']\n",
    "numeric_df = df.select_dtypes(include=numerics)\n",
    "len(numeric_df.columns)"
   ]
  },
  {
   "cell_type": "code",
   "execution_count": 10,
   "id": "bec0f48a",
   "metadata": {},
   "outputs": [
    {
     "data": {
      "text/plain": [
       "End_Lng                  7.552155e-01\n",
       "End_Lat                  7.552155e-01\n",
       "Precipitation(in)        6.718672e-01\n",
       "Number                   6.447172e-01\n",
       "Wind_Chill(F)            6.228696e-01\n",
       "TMC                      2.447845e-01\n",
       "Wind_Speed(mph)          1.482146e-01\n",
       "Weather_Condition        2.216697e-02\n",
       "Visibility(mi)           2.208595e-02\n",
       "Humidity(%)              1.989453e-02\n",
       "Temperature(F)           1.884892e-02\n",
       "Pressure(in)             1.618580e-02\n",
       "Wind_Direction           1.516339e-02\n",
       "Weather_Timestamp        1.234057e-02\n",
       "Airport_Code             1.913369e-03\n",
       "Timezone                 1.063431e-03\n",
       "Zipcode                  2.958645e-04\n",
       "Sunrise_Sunset           3.126749e-05\n",
       "Civil_Twilight           3.126749e-05\n",
       "Nautical_Twilight        3.126749e-05\n",
       "Astronomical_Twilight    3.126749e-05\n",
       "City                     2.790540e-05\n",
       "Description              3.362096e-07\n",
       "Country                  0.000000e+00\n",
       "Junction                 0.000000e+00\n",
       "Source                   0.000000e+00\n",
       "Severity                 0.000000e+00\n",
       "Start_Time               0.000000e+00\n",
       "Turning_Loop             0.000000e+00\n",
       "Traffic_Signal           0.000000e+00\n",
       "Traffic_Calming          0.000000e+00\n",
       "Stop                     0.000000e+00\n",
       "Station                  0.000000e+00\n",
       "Roundabout               0.000000e+00\n",
       "Railway                  0.000000e+00\n",
       "No_Exit                  0.000000e+00\n",
       "Crossing                 0.000000e+00\n",
       "Give_Way                 0.000000e+00\n",
       "State                    0.000000e+00\n",
       "Bump                     0.000000e+00\n",
       "Amenity                  0.000000e+00\n",
       "End_Time                 0.000000e+00\n",
       "Start_Lat                0.000000e+00\n",
       "Start_Lng                0.000000e+00\n",
       "Distance(mi)             0.000000e+00\n",
       "Street                   0.000000e+00\n",
       "Side                     0.000000e+00\n",
       "ID                       0.000000e+00\n",
       "County                   0.000000e+00\n",
       "Unnamed: 0               0.000000e+00\n",
       "dtype: float64"
      ]
     },
     "execution_count": 10,
     "metadata": {},
     "output_type": "execute_result"
    }
   ],
   "source": [
    "missing_values = df.isna().sum().sort_values(ascending=False) / len(df)\n",
    "missing_values"
   ]
  },
  {
   "cell_type": "code",
   "execution_count": 11,
   "id": "1d621dd7",
   "metadata": {},
   "outputs": [
    {
     "data": {
      "text/plain": [
       "End_Lng                  7.552155e-01\n",
       "End_Lat                  7.552155e-01\n",
       "Precipitation(in)        6.718672e-01\n",
       "Number                   6.447172e-01\n",
       "Wind_Chill(F)            6.228696e-01\n",
       "TMC                      2.447845e-01\n",
       "Wind_Speed(mph)          1.482146e-01\n",
       "Weather_Condition        2.216697e-02\n",
       "Visibility(mi)           2.208595e-02\n",
       "Humidity(%)              1.989453e-02\n",
       "Temperature(F)           1.884892e-02\n",
       "Pressure(in)             1.618580e-02\n",
       "Wind_Direction           1.516339e-02\n",
       "Weather_Timestamp        1.234057e-02\n",
       "Airport_Code             1.913369e-03\n",
       "Timezone                 1.063431e-03\n",
       "Zipcode                  2.958645e-04\n",
       "Sunrise_Sunset           3.126749e-05\n",
       "Civil_Twilight           3.126749e-05\n",
       "Nautical_Twilight        3.126749e-05\n",
       "Astronomical_Twilight    3.126749e-05\n",
       "City                     2.790540e-05\n",
       "Description              3.362096e-07\n",
       "dtype: float64"
      ]
     },
     "execution_count": 11,
     "metadata": {},
     "output_type": "execute_result"
    }
   ],
   "source": [
    "missing_values[missing_values != 0]"
   ]
  },
  {
   "cell_type": "code",
   "execution_count": 12,
   "id": "f3846872",
   "metadata": {},
   "outputs": [
    {
     "data": {
      "text/plain": [
       "pandas.core.series.Series"
      ]
     },
     "execution_count": 12,
     "metadata": {},
     "output_type": "execute_result"
    }
   ],
   "source": [
    "type(missing_values)"
   ]
  },
  {
   "cell_type": "code",
   "execution_count": 13,
   "id": "d4195a2e",
   "metadata": {},
   "outputs": [
    {
     "data": {
      "text/plain": [
       "<AxesSubplot:>"
      ]
     },
     "execution_count": 13,
     "metadata": {},
     "output_type": "execute_result"
    },
    {
     "data": {
      "image/png": "[encoded data removed]",
      "text/plain": [
       "<Figure size 432x288 with 1 Axes>"
      ]
     },
     "metadata": {
      "needs_background": "light"
     },
     "output_type": "display_data"
    }
   ],
   "source": [
    "missing_values[missing_values != 0].plot(kind='barh')"
   ]
  },
  {
   "cell_type": "markdown",
   "id": "0b141c1a",
   "metadata": {},
   "source": [
    "###  Remove columns thats you dont want to use"
   ]
  },
  {
   "cell_type": "code",
   "execution_count": 14,
   "id": "36bd8792",
   "metadata": {},
   "outputs": [
    {
     "data": {
      "text/plain": [
       "Index(['Unnamed: 0', 'ID', 'Source', 'TMC', 'Severity', 'Start_Time',\n",
       "       'End_Time', 'Start_Lat', 'Start_Lng', 'End_Lat', 'End_Lng',\n",
       "       'Distance(mi)', 'Description', 'Number', 'Street', 'Side', 'City',\n",
       "       'County', 'State', 'Zipcode', 'Country', 'Timezone', 'Airport_Code',\n",
       "       'Weather_Timestamp', 'Temperature(F)', 'Wind_Chill(F)', 'Humidity(%)',\n",
       "       'Pressure(in)', 'Visibility(mi)', 'Wind_Direction', 'Wind_Speed(mph)',\n",
       "       'Precipitation(in)', 'Weather_Condition', 'Amenity', 'Bump', 'Crossing',\n",
       "       'Give_Way', 'Junction', 'No_Exit', 'Railway', 'Roundabout', 'Station',\n",
       "       'Stop', 'Traffic_Calming', 'Traffic_Signal', 'Turning_Loop',\n",
       "       'Sunrise_Sunset', 'Civil_Twilight', 'Nautical_Twilight',\n",
       "       'Astronomical_Twilight'],\n",
       "      dtype='object')"
      ]
     },
     "execution_count": 14,
     "metadata": {},
     "output_type": "execute_result"
    }
   ],
   "source": [
    "df.columns # will use 1- city 2- start time 3- start lat,start lng 4-temperture 5-weather conditon"
   ]
  },
  {
   "cell_type": "code",
   "execution_count": 15,
   "id": "2ee0f177",
   "metadata": {},
   "outputs": [
    {
     "data": {
      "text/plain": [
       "11686"
      ]
     },
     "execution_count": 15,
     "metadata": {},
     "output_type": "execute_result"
    }
   ],
   "source": [
    "cities = df.City.unique()\n",
    "len(cities)"
   ]
  },
  {
   "cell_type": "code",
   "execution_count": 16,
   "id": "a23a1aa8",
   "metadata": {},
   "outputs": [
    {
     "data": {
      "text/plain": [
       "array(['Dayton', 'Reynoldsburg', 'Williamsburg', 'Westerville',\n",
       "       'Columbus', 'Miamisburg', 'Johnstown', 'Dublin',\n",
       "       'Canal Winchester', 'Lebanon', 'Sabina', 'Goshen', 'Waynesville',\n",
       "       'Springboro', 'Carroll', 'Oregonia', 'Independence',\n",
       "       'Maple Heights', 'Grove City', 'Findlay', 'Fairborn', 'Piqua',\n",
       "       'New Richmond', 'Batavia', 'Galena', 'Barberton', 'Akron',\n",
       "       'Mansfield', 'Cleveland', 'Bethel', 'Pataskala', 'Seville',\n",
       "       'Bellville', 'Troy', 'Wilmington', 'North Olmsted', 'Groveport',\n",
       "       'Orient', 'Tiro', 'Strongsville', 'Beavercreek', 'Circleville',\n",
       "       'Peebles', 'Hurricane', 'Xenia', 'Elyria', 'Pickerington',\n",
       "       'Burbank', 'Zanesville', 'North Baltimore', 'Mount Sterling',\n",
       "       'Tipp City', 'Moraine', 'Hilliard', 'Bowling Green', 'Maineville',\n",
       "       'Vermilion', 'Milford', 'Brookpark', 'Fraziers Bottom',\n",
       "       'Cambridge', 'Delaware', 'Moscow', 'Oberlin', 'Sardinia',\n",
       "       'Lewis Center', 'Urbancrest', 'Brecksville', 'Frankfort',\n",
       "       'Blanchester', 'Casstown', 'Lima', 'Amelia', 'Newark',\n",
       "       'Springfield', 'Vandalia', 'Galloway', 'Bloomingburg',\n",
       "       'Gallipolis', 'Lockbourne', 'Milan', 'Mason', 'Millersport',\n",
       "       'New Carlisle', 'Sunbury', 'Owensville', 'London', 'Vallejo',\n",
       "       'Hayward', 'Walnut Creek', 'Cupertino', 'San Jose', 'Pleasanton',\n",
       "       'San Francisco', 'Orinda', 'Livermore', 'Cotati', 'Concord',\n",
       "       'Sunnyvale', 'Sacramento'], dtype=object)"
      ]
     },
     "execution_count": 16,
     "metadata": {},
     "output_type": "execute_result"
    }
   ],
   "source": [
    "cities[:100]"
   ]
  },
  {
   "cell_type": "code",
   "execution_count": 17,
   "id": "e074daac",
   "metadata": {},
   "outputs": [
    {
     "data": {
      "text/plain": [
       "Houston                         93289\n",
       "Charlotte                       68054\n",
       "Los Angeles                     65851\n",
       "Austin                          58703\n",
       "Dallas                          58036\n",
       "                                ...  \n",
       "Amherst Junction                    1\n",
       "Miller                              1\n",
       "Glenwood Landing                    1\n",
       "New Roads                           1\n",
       "American Fork-Pleasant Grove        1\n",
       "Name: City, Length: 11685, dtype: int64"
      ]
     },
     "execution_count": 17,
     "metadata": {},
     "output_type": "execute_result"
    }
   ],
   "source": [
    "cities_by_acc = df.City.value_counts()\n",
    "cities_by_acc"
   ]
  },
  {
   "cell_type": "code",
   "execution_count": 18,
   "id": "0ae05c3c",
   "metadata": {},
   "outputs": [
    {
     "data": {
      "text/plain": [
       "Houston          93289\n",
       "Charlotte        68054\n",
       "Los Angeles      65851\n",
       "Austin           58703\n",
       "Dallas           58036\n",
       "Raleigh          39628\n",
       "Atlanta          37591\n",
       "Miami            31160\n",
       "Oklahoma City    30787\n",
       "Baton Rouge      30232\n",
       "Nashville        27855\n",
       "Orlando          26138\n",
       "Sacramento       25657\n",
       "Seattle          23745\n",
       "Phoenix          23044\n",
       "Minneapolis      22150\n",
       "San Antonio      21880\n",
       "San Diego        21045\n",
       "Richmond         18842\n",
       "Indianapolis     18244\n",
       "Name: City, dtype: int64"
      ]
     },
     "execution_count": 18,
     "metadata": {},
     "output_type": "execute_result"
    }
   ],
   "source": [
    "cities_by_acc[:20]"
   ]
  },
  {
   "cell_type": "code",
   "execution_count": 19,
   "id": "a5e1176e",
   "metadata": {},
   "outputs": [
    {
     "data": {
      "text/plain": [
       "pandas.core.series.Series"
      ]
     },
     "execution_count": 19,
     "metadata": {},
     "output_type": "execute_result"
    }
   ],
   "source": [
    "type(cities_by_acc)"
   ]
  },
  {
   "cell_type": "code",
   "execution_count": 20,
   "id": "b14e2536",
   "metadata": {},
   "outputs": [
    {
     "data": {
      "text/plain": [
       "<AxesSubplot:>"
      ]
     },
     "execution_count": 20,
     "metadata": {},
     "output_type": "execute_result"
    },
    {
     "data": {
      "image/png": "[encoded data removed]",
      "text/plain": [
       "<Figure size 432x288 with 1 Axes>"
      ]
     },
     "metadata": {
      "needs_background": "light"
     },
     "output_type": "display_data"
    }
   ],
   "source": [
    "cities_by_acc[:20].plot(kind='barh')"
   ]
  },
  {
   "cell_type": "markdown",
   "id": "5964b4e2",
   "metadata": {},
   "source": [
    "## Top 100 Citiesin number of accidents, Which States do they belong to most frequently?"
   ]
  },
  {
   "cell_type": "code",
   "execution_count": 21,
   "id": "a805dd16",
   "metadata": {},
   "outputs": [],
   "source": [
    "import seaborn as sns\n",
    "sns.set_style('darkgrid')"
   ]
  },
  {
   "cell_type": "code",
   "execution_count": 22,
   "id": "70575819",
   "metadata": {},
   "outputs": [
    {
     "data": {
      "text/plain": [
       "<AxesSubplot:xlabel='City', ylabel='Density'>"
      ]
     },
     "execution_count": 22,
     "metadata": {},
     "output_type": "execute_result"
    },
    {
     "data": {
      "image/png": "[encoded data removed]",
      "text/plain": [
       "<Figure size 432x288 with 1 Axes>"
      ]
     },
     "metadata": {},
     "output_type": "display_data"
    }
   ],
   "source": [
    "sns.distplot(cities_by_acc)"
   ]
  },
  {
   "cell_type": "code",
   "execution_count": 23,
   "id": "67608dc4",
   "metadata": {},
   "outputs": [],
   "source": [
    "high_acc_city = cities_by_acc[cities_by_acc >= 1000]\n",
    "low_acc_city = cities_by_acc[cities_by_acc < 1000]"
   ]
  },
  {
   "cell_type": "code",
   "execution_count": 24,
   "id": "e385e7e3",
   "metadata": {},
   "outputs": [
    {
     "data": {
      "text/plain": [
       "0.04278623994523361"
      ]
     },
     "execution_count": 24,
     "metadata": {},
     "output_type": "execute_result"
    }
   ],
   "source": [
    "len(high_acc_city) / len(cities)"
   ]
  },
  {
   "cell_type": "code",
   "execution_count": 25,
   "id": "5652792c",
   "metadata": {},
   "outputs": [
    {
     "data": {
      "text/plain": [
       "<AxesSubplot:xlabel='City', ylabel='Density'>"
      ]
     },
     "execution_count": 25,
     "metadata": {},
     "output_type": "execute_result"
    },
    {
     "data": {
      "image/png": "[encoded data removed]",
      "text/plain": [
       "<Figure size 432x288 with 1 Axes>"
      ]
     },
     "metadata": {},
     "output_type": "display_data"
    }
   ],
   "source": [
    "sns.distplot(high_acc_city)"
   ]
  },
  {
   "cell_type": "code",
   "execution_count": 26,
   "id": "263b2091",
   "metadata": {},
   "outputs": [
    {
     "data": {
      "text/plain": [
       "<AxesSubplot:xlabel='City', ylabel='Count'>"
      ]
     },
     "execution_count": 26,
     "metadata": {},
     "output_type": "execute_result"
    },
    {
     "data": {
      "image/png": "[encoded data removed]",
      "text/plain": [
       "<Figure size 432x288 with 1 Axes>"
      ]
     },
     "metadata": {},
     "output_type": "display_data"
    }
   ],
   "source": [
    "sns.histplot(low_acc_city, log_scale=True, palette='light:m_r')"
   ]
  },
  {
   "cell_type": "code",
   "execution_count": 27,
   "id": "3bfd1e35",
   "metadata": {},
   "outputs": [
    {
     "data": {
      "text/plain": [
       "Ovid                            1\n",
       "Wynne                           1\n",
       "Killona                         1\n",
       "Urbancrest                      1\n",
       "Paron                           1\n",
       "                               ..\n",
       "Amherst Junction                1\n",
       "Miller                          1\n",
       "Glenwood Landing                1\n",
       "New Roads                       1\n",
       "American Fork-Pleasant Grove    1\n",
       "Name: City, Length: 1429, dtype: int64"
      ]
     },
     "execution_count": 27,
     "metadata": {},
     "output_type": "execute_result"
    }
   ],
   "source": [
    "cities_by_acc[cities_by_acc == 1] ## over 1429 cities have reported just one accident"
   ]
  },
  {
   "cell_type": "markdown",
   "id": "02c98900",
   "metadata": {},
   "source": [
    "# start time"
   ]
  },
  {
   "cell_type": "code",
   "execution_count": 28,
   "id": "fd5debc6",
   "metadata": {},
   "outputs": [
    {
     "data": {
      "text/plain": [
       "'2016-02-08 05:46:00'"
      ]
     },
     "execution_count": 28,
     "metadata": {},
     "output_type": "execute_result"
    }
   ],
   "source": [
    "df.Start_Time[0]"
   ]
  },
  {
   "cell_type": "code",
   "execution_count": 29,
   "id": "4b5616aa",
   "metadata": {},
   "outputs": [],
   "source": [
    "df.Start_Time = pd.to_datetime(df.Start_Time)"
   ]
  },
  {
   "cell_type": "code",
   "execution_count": 30,
   "id": "c820fe6e",
   "metadata": {},
   "outputs": [
    {
     "data": {
      "text/plain": [
       "<AxesSubplot:xlabel='Start_Time'>"
      ]
     },
     "execution_count": 30,
     "metadata": {},
     "output_type": "execute_result"
    },
    {
     "data": {
      "image/png": "[encoded data removed]",
      "text/plain": [
       "<Figure size 432x288 with 1 Axes>"
      ]
     },
     "metadata": {},
     "output_type": "display_data"
    }
   ],
   "source": [
    "sns.distplot(df.Start_Time.dt.hour, bins=24, kde=False, norm_hist=True)"
   ]
  },
  {
   "cell_type": "code",
   "execution_count": 31,
   "id": "8a9a1052",
   "metadata": {},
   "outputs": [
    {
     "data": {
      "text/plain": [
       "<AxesSubplot:xlabel='Start_Time'>"
      ]
     },
     "execution_count": 31,
     "metadata": {},
     "output_type": "execute_result"
    },
    {
     "data": {
      "image/png": "[encoded data removed]",
      "text/plain": [
       "<Figure size 432x288 with 1 Axes>"
      ]
     },
     "metadata": {},
     "output_type": "display_data"
    }
   ],
   "source": [
    "sns.distplot(df.Start_Time.dt.dayofweek, bins=7, kde=False, norm_hist=True)"
   ]
  },
  {
   "cell_type": "code",
   "execution_count": 32,
   "id": "07ab2af4",
   "metadata": {},
   "outputs": [
    {
     "data": {
      "text/plain": [
       "0          False\n",
       "1          False\n",
       "2          False\n",
       "3          False\n",
       "4          False\n",
       "           ...  \n",
       "2974330    False\n",
       "2974331    False\n",
       "2974332    False\n",
       "2974333    False\n",
       "2974334    False\n",
       "Name: Start_Time, Length: 2974335, dtype: bool"
      ]
     },
     "execution_count": 32,
     "metadata": {},
     "output_type": "execute_result"
    }
   ],
   "source": [
    "df.Start_Time.dt.dayofweek==6"
   ]
  },
  {
   "cell_type": "code",
   "execution_count": 33,
   "id": "1624da9b",
   "metadata": {},
   "outputs": [
    {
     "data": {
      "text/plain": [
       "0          2016\n",
       "1          2016\n",
       "2          2016\n",
       "3          2016\n",
       "4          2016\n",
       "           ... \n",
       "2974330    2019\n",
       "2974331    2019\n",
       "2974332    2019\n",
       "2974333    2019\n",
       "2974334    2019\n",
       "Name: Start_Time, Length: 2974335, dtype: int64"
      ]
     },
     "execution_count": 33,
     "metadata": {},
     "output_type": "execute_result"
    }
   ],
   "source": [
    "df.Start_Time.dt.year"
   ]
  },
  {
   "cell_type": "code",
   "execution_count": 34,
   "id": "e7404322",
   "metadata": {},
   "outputs": [
    {
     "data": {
      "text/plain": [
       "<AxesSubplot:xlabel='Start_Time'>"
      ]
     },
     "execution_count": 34,
     "metadata": {},
     "output_type": "execute_result"
    },
    {
     "data": {
      "image/png": "[encoded data removed]",
      "text/plain": [
       "<Figure size 432x288 with 1 Axes>"
      ]
     },
     "metadata": {},
     "output_type": "display_data"
    }
   ],
   "source": [
    "df_2019 = df[df.Start_Time.dt.year == 2019]\n",
    "sns.distplot(df_2019.Start_Time.dt.month, bins=12, kde= False, norm_hist=True)"
   ]
  },
  {
   "cell_type": "code",
   "execution_count": 35,
   "id": "f0dac748",
   "metadata": {},
   "outputs": [
    {
     "data": {
      "text/plain": [
       "<AxesSubplot:xlabel='Start_Time'>"
      ]
     },
     "execution_count": 35,
     "metadata": {},
     "output_type": "execute_result"
    },
    {
     "data": {
      "image/png": "[encoded data removed]",
      "text/plain": [
       "<Figure size 432x288 with 1 Axes>"
      ]
     },
     "metadata": {},
     "output_type": "display_data"
    }
   ],
   "source": [
    "df_2019 = df[df.Start_Time.dt.year == 2017]\n",
    "sns.distplot(df_2019.Start_Time.dt.month, bins=12, kde= False, norm_hist=True)"
   ]
  },
  {
   "cell_type": "code",
   "execution_count": 36,
   "id": "de7e0ba3",
   "metadata": {},
   "outputs": [
    {
     "data": {
      "text/plain": [
       "<AxesSubplot:xlabel='Start_Time'>"
      ]
     },
     "execution_count": 36,
     "metadata": {},
     "output_type": "execute_result"
    },
    {
     "data": {
      "image/png": "[encoded data removed]",
      "text/plain": [
       "<Figure size 432x288 with 1 Axes>"
      ]
     },
     "metadata": {},
     "output_type": "display_data"
    }
   ],
   "source": [
    "df_2019 = df[df.Start_Time.dt.year == 2018]\n",
    "sns.distplot(df_2019.Start_Time.dt.month, bins=12, kde= False, norm_hist=True)"
   ]
  },
  {
   "cell_type": "code",
   "execution_count": 37,
   "id": "b46785f1",
   "metadata": {},
   "outputs": [
    {
     "data": {
      "text/plain": [
       "<AxesSubplot:xlabel='Start_Time'>"
      ]
     },
     "execution_count": 37,
     "metadata": {},
     "output_type": "execute_result"
    },
    {
     "data": {
      "image/png": "[encoded data removed]",
      "text/plain": [
       "<Figure size 432x288 with 1 Axes>"
      ]
     },
     "metadata": {},
     "output_type": "display_data"
    }
   ],
   "source": [
    "df_2019 = df[df.Start_Time.dt.year == 2016]\n",
    "sns.distplot(df_2019.Start_Time.dt.month, bins=12, kde= False, norm_hist=True)"
   ]
  },
  {
   "cell_type": "code",
   "execution_count": 38,
   "id": "decf60ee",
   "metadata": {},
   "outputs": [
    {
     "data": {
      "text/plain": [
       "<AxesSubplot:ylabel='Source'>"
      ]
     },
     "execution_count": 38,
     "metadata": {},
     "output_type": "execute_result"
    },
    {
     "data": {
      "image/png": "[encoded data removed]",
      "text/plain": [
       "<Figure size 432x288 with 1 Axes>"
      ]
     },
     "metadata": {},
     "output_type": "display_data"
    }
   ],
   "source": [
    "df.Source.value_counts().plot(kind='pie')"
   ]
  },
  {
   "cell_type": "code",
   "execution_count": 39,
   "id": "2ddef1e6",
   "metadata": {},
   "outputs": [
    {
     "data": {
      "text/plain": [
       "<AxesSubplot:xlabel='Start_Lng', ylabel='Start_Lat'>"
      ]
     },
     "execution_count": 39,
     "metadata": {},
     "output_type": "execute_result"
    },
    {
     "data": {
      "image/png": "[encoded data removed]",
      "text/plain": [
       "<Figure size 432x288 with 1 Axes>"
      ]
     },
     "metadata": {},
     "output_type": "display_data"
    }
   ],
   "source": [
    "sns.scatterplot(x=df.Start_Lng, y=df.Start_Lat)"
   ]
  }
 ],
 "metadata": {
  "kernelspec": {
   "display_name": "Python 3 (ipykernel)",
   "language": "python",
   "name": "python3"
  },
  "language_info": {
   "codemirror_mode": {
    "name": "ipython",
    "version": 3
   },
   "file_extension": ".py",
   "mimetype": "text/x-python",
   "name": "python",
   "nbconvert_exporter": "python",
   "pygments_lexer": "ipython3",
   "version": "3.9.12"
  }
 },
 "nbformat": 4,
 "nbformat_minor": 5
}
